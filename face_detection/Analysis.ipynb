{
 "cells": [
  {
   "cell_type": "markdown",
   "metadata": {
    "id": "q_FwFCW3xQrE"
   },
   "source": [
    "# Configure environment\n"
   ]
  },
  {
   "cell_type": "code",
   "execution_count": null,
   "metadata": {
    "colab": {
     "base_uri": "https://localhost:8080/"
    },
    "id": "IAoXW2ZGVjaS",
    "outputId": "f17ac0c4-55f5-45d8-fa41-69314d79b2f9"
   },
   "outputs": [
    {
     "name": "stdout",
     "output_type": "stream",
     "text": [
      "Wed Nov  4 13:02:08 2020       \n",
      "+-----------------------------------------------------------------------------+\n",
      "| NVIDIA-SMI 455.32.00    Driver Version: 418.67       CUDA Version: 10.1     |\n",
      "|-------------------------------+----------------------+----------------------+\n",
      "| GPU  Name        Persistence-M| Bus-Id        Disp.A | Volatile Uncorr. ECC |\n",
      "| Fan  Temp  Perf  Pwr:Usage/Cap|         Memory-Usage | GPU-Util  Compute M. |\n",
      "|                               |                      |               MIG M. |\n",
      "|===============================+======================+======================|\n",
      "|   0  Tesla T4            Off  | 00000000:00:04.0 Off |                    0 |\n",
      "| N/A   33C    P8     9W /  70W |      0MiB / 15079MiB |      0%      Default |\n",
      "|                               |                      |                 ERR! |\n",
      "+-------------------------------+----------------------+----------------------+\n",
      "                                                                               \n",
      "+-----------------------------------------------------------------------------+\n",
      "| Processes:                                                                  |\n",
      "|  GPU   GI   CI        PID   Type   Process name                  GPU Memory |\n",
      "|        ID   ID                                                   Usage      |\n",
      "|=============================================================================|\n",
      "|  No running processes found                                                 |\n",
      "+-----------------------------------------------------------------------------+\n"
     ]
    }
   ],
   "source": [
    "!nvidia-smi"
   ]
  },
  {
   "cell_type": "code",
   "execution_count": 6,
   "metadata": {},
   "outputs": [],
   "source": [
    "import os\n",
    "import numpy as np\n",
    "import pandas as pd"
   ]
  },
  {
   "cell_type": "code",
   "execution_count": 9,
   "metadata": {},
   "outputs": [],
   "source": [
    "running_type = 'C'\n",
    "threads = 6\n",
    "\n",
    "types = [{'name': 'S', 'max': 1, 'partitions': 1}, {'name': 'O', 'max': 16, 'partitions': 16}, {'name': 'C', 'max': 128 * 4, 'partitions': 20}]\n",
    "\n",
    "for t in types:\n",
    "    for threads in np.linspace(1, t['max'], t['partitions']):\n",
    "        os.system(\"./bin/violajones {} {}\".format(t['name'], threads))"
   ]
  },
  {
   "cell_type": "code",
   "execution_count": null,
   "metadata": {
    "colab": {
     "base_uri": "https://localhost:8080/"
    },
    "id": "z_N71sZ8_KGW",
    "outputId": "fc2fc740-4e31-4119-a8a5-e900ff82c76f"
   },
   "outputs": [
    {
     "name": "stdout",
     "output_type": "stream",
     "text": [
      "1,1,303.596943\n",
      "1,27,11.409342\n",
      "1,54,5.934783\n",
      "1,81,4.525623\n",
      "1,108,4.058784\n",
      "1,135,3.887120\n",
      "1,162,3.900665\n",
      "1,189,3.358987\n",
      "1,216,3.473935\n",
      "1,243,3.417205\n",
      "1,269,3.619163\n",
      "1,296,3.571559\n",
      "1,323,3.528542\n",
      "1,350,3.268446\n",
      "1,377,3.264836\n",
      "1,404,3.372774\n",
      "1,431,3.413692\n",
      "1,458,3.417488\n",
      "1,485,3.373346\n",
      "1,512,3.201726\n",
      "10,1,30.575735\n",
      "10,27,1.250428\n",
      "10,54,0.699042\n",
      "10,81,0.562368\n",
      "10,108,0.518023\n",
      "10,135,0.496419\n",
      "10,162,0.503165\n",
      "10,189,0.444854\n",
      "10,216,0.457826\n",
      "10,243,0.450773\n",
      "10,269,0.472137\n",
      "10,296,0.465450\n",
      "10,323,0.462146\n",
      "10,350,0.433650\n",
      "10,377,0.436309\n",
      "10,404,0.444526\n",
      "10,431,0.456231\n",
      "10,458,0.454969\n",
      "10,485,0.453617\n",
      "10,512,0.428530\n",
      "19,1,16.146915\n",
      "19,27,0.715309\n",
      "19,54,0.429124\n",
      "19,81,0.352349\n",
      "19,108,0.328579\n",
      "19,135,0.320794\n",
      "19,162,0.319389\n",
      "19,189,0.291558\n",
      "19,216,0.301187\n",
      "19,243,0.293284\n",
      "19,269,0.305604\n",
      "19,296,0.304380\n",
      "19,323,0.299231\n",
      "19,350,0.287916\n",
      "19,377,0.290646\n",
      "19,404,0.290163\n",
      "19,431,0.295746\n",
      "19,458,0.299920\n",
      "19,485,0.293844\n",
      "19,512,0.286874\n",
      "28,1,10.993153\n",
      "28,27,0.527542\n",
      "28,54,0.332322\n",
      "28,81,0.277869\n",
      "28,108,0.265882\n",
      "28,135,0.256464\n",
      "28,162,0.256090\n",
      "28,189,0.236825\n",
      "28,216,0.241589\n",
      "28,243,0.238701\n",
      "28,269,0.248421\n",
      "28,296,0.245806\n",
      "28,323,0.244271\n",
      "28,350,0.234731\n",
      "28,377,0.235751\n",
      "28,404,0.240985\n",
      "28,431,0.238202\n",
      "28,458,0.244634\n",
      "28,485,0.236328\n",
      "28,512,0.237573\n",
      "37,1,8.350504\n",
      "37,27,0.425870\n",
      "37,54,0.277798\n",
      "37,81,0.238201\n",
      "37,108,0.226362\n",
      "37,135,0.225357\n",
      "37,162,0.225819\n",
      "37,189,0.216759\n",
      "37,216,0.213933\n",
      "37,243,0.211688\n",
      "37,269,0.223979\n",
      "37,296,0.219309\n",
      "37,323,0.214041\n",
      "37,350,0.208712\n",
      "37,377,0.205497\n",
      "37,404,0.214401\n",
      "37,431,0.211793\n",
      "37,458,0.210102\n",
      "37,485,0.209171\n",
      "37,512,0.209735\n",
      "46,1,6.943993\n",
      "46,27,0.373989\n",
      "46,54,0.291487\n",
      "46,81,0.285551\n",
      "46,108,0.285585\n",
      "46,135,0.288573\n",
      "46,162,0.281840\n",
      "46,189,0.259749\n",
      "46,216,0.266685\n",
      "46,243,0.265159\n",
      "46,269,0.271037\n",
      "46,296,0.265400\n",
      "46,323,0.272927\n",
      "46,350,0.262163\n",
      "46,377,0.261833\n",
      "46,404,0.263092\n",
      "46,431,0.269201\n",
      "46,458,0.267275\n",
      "46,485,0.267422\n",
      "46,512,0.264402\n",
      "55,1,5.828108\n",
      "55,27,0.342072\n",
      "55,54,0.267627\n",
      "55,81,0.264632\n",
      "55,108,0.263527\n",
      "55,135,0.262894\n",
      "55,162,0.261625\n",
      "55,189,0.243980\n",
      "55,216,0.244327\n",
      "55,243,0.247787\n",
      "55,269,0.248990\n",
      "55,296,0.248700\n",
      "55,323,0.250643\n",
      "55,350,0.241257\n",
      "55,377,0.246739\n",
      "55,404,0.244260\n",
      "55,431,0.246563\n",
      "55,458,0.250545\n",
      "55,485,0.249213\n",
      "55,512,0.240683\n",
      "64,1,5.028320\n",
      "64,27,0.304356\n",
      "64,54,0.244931\n",
      "64,81,0.240802\n",
      "64,108,0.243056\n",
      "64,135,0.244113\n",
      "64,162,0.236045\n",
      "64,189,0.220861\n",
      "64,216,0.225287\n",
      "64,243,0.222800\n",
      "64,269,0.227898\n",
      "64,296,0.225746\n",
      "64,323,0.237375\n",
      "64,350,0.225089\n",
      "64,377,0.222842\n",
      "64,404,0.226504\n",
      "64,431,0.227038\n",
      "64,458,0.225384\n",
      "64,485,0.226828\n",
      "64,512,0.220893\n",
      "73,1,4.423119\n",
      "73,27,0.280986\n",
      "73,54,0.230289\n",
      "73,81,0.222680\n",
      "73,108,0.218974\n",
      "73,135,0.224326\n",
      "73,162,0.223746\n",
      "73,189,0.208581\n",
      "73,216,0.210759\n",
      "73,243,0.212183\n",
      "73,269,0.216500\n",
      "73,296,0.213116\n",
      "73,323,0.218389\n",
      "73,350,0.209578\n",
      "73,377,0.212640\n",
      "73,404,0.209614\n",
      "73,431,0.213662\n",
      "73,458,0.214511\n",
      "73,485,0.217323\n",
      "73,512,0.210818\n",
      "82,1,4.470149\n",
      "82,27,0.284485\n",
      "82,54,0.260629\n",
      "82,81,0.265786\n",
      "82,108,0.253973\n",
      "82,135,0.258756\n",
      "82,162,0.257400\n",
      "82,189,0.241096\n",
      "82,216,0.245076\n",
      "82,243,0.248598\n",
      "82,269,0.247233\n",
      "82,296,0.252601\n",
      "82,323,0.291492\n",
      "82,350,0.277306\n",
      "82,377,0.241074\n",
      "82,404,0.242120\n",
      "82,431,0.243425\n",
      "82,458,0.244504\n",
      "82,485,0.251062\n",
      "82,512,0.23940840,120,0.425272\n",
      "40,120,0.320597\n"
     ]
    }
   ],
   "source": [
    "!cat output2.csv"
   ]
  },
  {
   "cell_type": "code",
   "execution_count": null,
   "metadata": {
    "id": "Z6pBTOATLoWX"
   },
   "outputs": [],
   "source": [
    "import pandas as pd\n",
    "df = pd.read_csv(\"output2.csv\", names=('MPs', \"Threads\", \"Time\"))"
   ]
  },
  {
   "cell_type": "code",
   "execution_count": null,
   "metadata": {
    "id": "zUkp3ETgUTr_"
   },
   "outputs": [],
   "source": [
    "sequential = df['Time'][0]\n",
    "df[\"Speedup\"] = df['Time'].apply(lambda x: sequential / x, 0)"
   ]
  },
  {
   "cell_type": "code",
   "execution_count": null,
   "metadata": {
    "colab": {
     "base_uri": "https://localhost:8080/",
     "height": 639
    },
    "id": "PWB_gMnAiM-J",
    "outputId": "9a3294bc-308f-4ada-c4d2-1c198c483c12"
   },
   "outputs": [
    {
     "data": {
      "text/html": [
       "<div>\n",
       "<style scoped>\n",
       "    .dataframe tbody tr th:only-of-type {\n",
       "        vertical-align: middle;\n",
       "    }\n",
       "\n",
       "    .dataframe tbody tr th {\n",
       "        vertical-align: top;\n",
       "    }\n",
       "\n",
       "    .dataframe thead th {\n",
       "        text-align: right;\n",
       "    }\n",
       "</style>\n",
       "<table border=\"1\" class=\"dataframe\">\n",
       "  <thead>\n",
       "    <tr style=\"text-align: right;\">\n",
       "      <th></th>\n",
       "      <th>MPs</th>\n",
       "      <th>Threads</th>\n",
       "      <th>Time</th>\n",
       "      <th>Speedup</th>\n",
       "    </tr>\n",
       "  </thead>\n",
       "  <tbody>\n",
       "    <tr>\n",
       "      <th>0</th>\n",
       "      <td>1</td>\n",
       "      <td>1</td>\n",
       "      <td>303.596943</td>\n",
       "      <td>1</td>\n",
       "    </tr>\n",
       "    <tr>\n",
       "      <th>1</th>\n",
       "      <td>1</td>\n",
       "      <td>27</td>\n",
       "      <td>11.409342</td>\n",
       "      <td>26.6095</td>\n",
       "    </tr>\n",
       "    <tr>\n",
       "      <th>2</th>\n",
       "      <td>1</td>\n",
       "      <td>54</td>\n",
       "      <td>5.934783</td>\n",
       "      <td>51.1555</td>\n",
       "    </tr>\n",
       "    <tr>\n",
       "      <th>3</th>\n",
       "      <td>1</td>\n",
       "      <td>81</td>\n",
       "      <td>4.525623</td>\n",
       "      <td>67.084</td>\n",
       "    </tr>\n",
       "    <tr>\n",
       "      <th>4</th>\n",
       "      <td>1</td>\n",
       "      <td>108</td>\n",
       "      <td>4.058784</td>\n",
       "      <td>74.8</td>\n",
       "    </tr>\n",
       "    <tr>\n",
       "      <th>5</th>\n",
       "      <td>1</td>\n",
       "      <td>135</td>\n",
       "      <td>3.887120</td>\n",
       "      <td>78.1033</td>\n",
       "    </tr>\n",
       "    <tr>\n",
       "      <th>6</th>\n",
       "      <td>1</td>\n",
       "      <td>162</td>\n",
       "      <td>3.900665</td>\n",
       "      <td>77.8321</td>\n",
       "    </tr>\n",
       "    <tr>\n",
       "      <th>7</th>\n",
       "      <td>1</td>\n",
       "      <td>189</td>\n",
       "      <td>3.358987</td>\n",
       "      <td>90.3835</td>\n",
       "    </tr>\n",
       "    <tr>\n",
       "      <th>8</th>\n",
       "      <td>1</td>\n",
       "      <td>216</td>\n",
       "      <td>3.473935</td>\n",
       "      <td>87.3928</td>\n",
       "    </tr>\n",
       "    <tr>\n",
       "      <th>9</th>\n",
       "      <td>1</td>\n",
       "      <td>243</td>\n",
       "      <td>3.417205</td>\n",
       "      <td>88.8436</td>\n",
       "    </tr>\n",
       "    <tr>\n",
       "      <th>10</th>\n",
       "      <td>1</td>\n",
       "      <td>269</td>\n",
       "      <td>3.619163</td>\n",
       "      <td>83.886</td>\n",
       "    </tr>\n",
       "    <tr>\n",
       "      <th>11</th>\n",
       "      <td>1</td>\n",
       "      <td>296</td>\n",
       "      <td>3.571559</td>\n",
       "      <td>85.004</td>\n",
       "    </tr>\n",
       "    <tr>\n",
       "      <th>12</th>\n",
       "      <td>1</td>\n",
       "      <td>323</td>\n",
       "      <td>3.528542</td>\n",
       "      <td>86.0403</td>\n",
       "    </tr>\n",
       "    <tr>\n",
       "      <th>13</th>\n",
       "      <td>1</td>\n",
       "      <td>350</td>\n",
       "      <td>3.268446</td>\n",
       "      <td>92.8872</td>\n",
       "    </tr>\n",
       "    <tr>\n",
       "      <th>14</th>\n",
       "      <td>1</td>\n",
       "      <td>377</td>\n",
       "      <td>3.264836</td>\n",
       "      <td>92.99</td>\n",
       "    </tr>\n",
       "    <tr>\n",
       "      <th>15</th>\n",
       "      <td>1</td>\n",
       "      <td>404</td>\n",
       "      <td>3.372774</td>\n",
       "      <td>90.014</td>\n",
       "    </tr>\n",
       "    <tr>\n",
       "      <th>16</th>\n",
       "      <td>1</td>\n",
       "      <td>431</td>\n",
       "      <td>3.413692</td>\n",
       "      <td>88.9351</td>\n",
       "    </tr>\n",
       "    <tr>\n",
       "      <th>17</th>\n",
       "      <td>1</td>\n",
       "      <td>458</td>\n",
       "      <td>3.417488</td>\n",
       "      <td>88.8363</td>\n",
       "    </tr>\n",
       "    <tr>\n",
       "      <th>18</th>\n",
       "      <td>1</td>\n",
       "      <td>485</td>\n",
       "      <td>3.373346</td>\n",
       "      <td>89.9988</td>\n",
       "    </tr>\n",
       "    <tr>\n",
       "      <th>19</th>\n",
       "      <td>1</td>\n",
       "      <td>512</td>\n",
       "      <td>3.201726</td>\n",
       "      <td>94.8229</td>\n",
       "    </tr>\n",
       "  </tbody>\n",
       "</table>\n",
       "</div>"
      ],
      "text/plain": [
       "    MPs  Threads        Time  Speedup\n",
       "0     1        1  303.596943        1\n",
       "1     1       27   11.409342  26.6095\n",
       "2     1       54    5.934783  51.1555\n",
       "3     1       81    4.525623   67.084\n",
       "4     1      108    4.058784     74.8\n",
       "5     1      135    3.887120  78.1033\n",
       "6     1      162    3.900665  77.8321\n",
       "7     1      189    3.358987  90.3835\n",
       "8     1      216    3.473935  87.3928\n",
       "9     1      243    3.417205  88.8436\n",
       "10    1      269    3.619163   83.886\n",
       "11    1      296    3.571559   85.004\n",
       "12    1      323    3.528542  86.0403\n",
       "13    1      350    3.268446  92.8872\n",
       "14    1      377    3.264836    92.99\n",
       "15    1      404    3.372774   90.014\n",
       "16    1      431    3.413692  88.9351\n",
       "17    1      458    3.417488  88.8363\n",
       "18    1      485    3.373346  89.9988\n",
       "19    1      512    3.201726  94.8229"
      ]
     },
     "execution_count": 17,
     "metadata": {
      "tags": []
     },
     "output_type": "execute_result"
    }
   ],
   "source": [
    "df[df['MPs'] == 1]"
   ]
  },
  {
   "cell_type": "code",
   "execution_count": null,
   "metadata": {
    "colab": {
     "base_uri": "https://localhost:8080/",
     "height": 296
    },
    "id": "tPhHeDnLRJHN",
    "outputId": "8aba0c26-3c37-4797-d827-2dc10cf10f00"
   },
   "outputs": [
    {
     "data": {
      "text/plain": [
       "<matplotlib.axes._subplots.AxesSubplot at 0x7fbd5b95f6d8>"
      ]
     },
     "execution_count": 18,
     "metadata": {
      "tags": []
     },
     "output_type": "execute_result"
    },
    {
     "data": {
      "image/png": "[encoded data removed]",
      "text/plain": [
       "<Figure size 432x288 with 1 Axes>"
      ]
     },
     "metadata": {
      "needs_background": "light",
      "tags": []
     },
     "output_type": "display_data"
    }
   ],
   "source": [
    "#@title Blur effect\n",
    "\n",
    "multiprocessors = 1 #@param {type:\"slider\", min:1, max:81, step:9}\n",
    "\n",
    "df[df['MPs'] == multiprocessors][['Threads', \"Time\", \"Speedup\"]].plot(x=\"Threads\")"
   ]
  },
  {
   "cell_type": "code",
   "execution_count": null,
   "metadata": {
    "colab": {
     "base_uri": "https://localhost:8080/"
    },
    "id": "OT_3UBZWWs2n",
    "outputId": "209c8576-651b-47dc-a3c1-5accadfde44d"
   },
   "outputs": [
    {
     "name": "stdout",
     "output_type": "stream",
     "text": [
      "/usr/local/cuda/bin/bin2c\n",
      "/usr/local/cuda/bin/computeprof\n",
      "/usr/local/cuda/bin/cudafe\n",
      "/usr/local/cuda/bin/cudafe++\n",
      "/usr/local/cuda/bin/cuda-gdb\n",
      "/usr/local/cuda/bin/cuda-gdbserver\n",
      "/usr/local/cuda/bin/cuda-install-samples-8.0.sh\n",
      "/usr/local/cuda/bin/cuda-memcheck\n",
      "/usr/local/cuda/bin/cuobjdump\n",
      "/usr/local/cuda/bin/fatbinary\n",
      "/usr/local/cuda/bin/g++\n",
      "/usr/local/cuda/bin/gcc\n",
      "/usr/local/cuda/bin/gpu-library-advisor\n",
      "/usr/local/cuda/bin/nsight\n",
      "/usr/local/cuda/bin/nvcc\n",
      "/usr/local/cuda/bin/nvcc.profile\n",
      "/usr/local/cuda/bin/nvdisasm\n",
      "/usr/local/cuda/bin/nvlink\n",
      "/usr/local/cuda/bin/nvprof\n",
      "/usr/local/cuda/bin/nvprune\n",
      "/usr/local/cuda/bin/nvvp\n",
      "/usr/local/cuda/bin/ptxas\n",
      "\n",
      "/usr/local/cuda/bin/crt:\n",
      "link.stub  prelink.stub\n"
     ]
    }
   ],
   "source": [
    "!ls /usr/local/cuda/bin/nvprof*"
   ]
  },
  {
   "cell_type": "code",
   "execution_count": null,
   "metadata": {
    "id": "TpDDYtcEW-UE"
   },
   "outputs": [],
   "source": [
    "!./bin/pi"
   ]
  },
  {
   "cell_type": "code",
   "execution_count": null,
   "metadata": {
    "colab": {
     "base_uri": "https://localhost:8080/"
    },
    "id": "XHjEag2FXEH2",
    "outputId": "bf4e4951-5311-4734-8ca8-954c9cb34ba5"
   },
   "outputs": [
    {
     "name": "stdout",
     "output_type": "stream",
     "text": [
      "82,431,0.243425\n",
      "82,458,0.244504\n",
      "82,485,0.251062\n",
      "82,512,0.23940840,120,0.425272\n",
      "40,120,0.320597\n",
      "40,120,0.359431\n",
      "40,120,0.357095\n",
      "40,120,0.358252\n",
      "40,120,0.343038\n",
      "40,120,0.389715\n"
     ]
    }
   ],
   "source": [
    "!tail output2.csv"
   ]
  },
  {
   "cell_type": "code",
   "execution_count": null,
   "metadata": {
    "colab": {
     "base_uri": "https://localhost:8080/"
    },
    "id": "9_Zr1T17XSSR",
    "outputId": "a6b7f91b-f6dd-4957-de58-70fbe37cbce1"
   },
   "outputs": [
    {
     "name": "stdout",
     "output_type": "stream",
     "text": [
      "nvprof: NVIDIA (R) Cuda command line profiler\n",
      "Copyright (c) 2012 - 2016 NVIDIA Corporation\n",
      "Release version 8.0.61 (21)\n"
     ]
    }
   ],
   "source": [
    "!nvprof -V"
   ]
  },
  {
   "cell_type": "code",
   "execution_count": null,
   "metadata": {
    "colab": {
     "base_uri": "https://localhost:8080/"
    },
    "id": "2FqDk0pUSh3z",
    "outputId": "109394c2-9a28-4387-8b02-6eb37780b524"
   },
   "outputs": [
    {
     "name": "stdout",
     "output_type": "stream",
     "text": [
      "==4433== NVPROF is profiling process 4433, command: ./bin/pi\n",
      "==4433== Profiling application: ./bin/pi\n",
      "==4433== Profiling result:\n",
      "            Type  Time(%)      Time     Calls       Avg       Min       Max  Name\n",
      " GPU activities:  100.00%  240.74ms         1  240.74ms  240.74ms  240.74ms  calcPi(float*, long, long)\n",
      "                    0.00%  6.3040us         1  6.3040us  6.3040us  6.3040us  red(float*)\n",
      "                    0.00%  2.2080us         1  2.2080us  2.2080us  2.2080us  [CUDA memset]\n",
      "                    0.00%  1.6000us         1  1.6000us  1.6000us  1.6000us  [CUDA memcpy DtoH]\n",
      "      API calls:   54.81%  240.77ms         1  240.77ms  240.77ms  240.77ms  cudaMemcpy\n",
      "                   44.96%  197.53ms         1  197.53ms  197.53ms  197.53ms  cudaMalloc\n",
      "                    0.09%  412.48us         1  412.48us  412.48us  412.48us  cuDeviceTotalMem\n",
      "                    0.05%  198.37us         1  198.37us  198.37us  198.37us  cudaFree\n",
      "                    0.03%  148.90us        90  1.6540us     152ns  62.999us  cuDeviceGetAttribute\n",
      "                    0.03%  136.59us         1  136.59us  136.59us  136.59us  cudaGetDeviceProperties\n",
      "                    0.01%  38.109us         1  38.109us  38.109us  38.109us  cudaMemset\n",
      "                    0.01%  29.210us         1  29.210us  29.210us  29.210us  cuDeviceGetName\n",
      "                    0.01%  22.747us         2  11.373us  7.8030us  14.944us  cudaLaunch\n",
      "                    0.00%  3.5740us         1  3.5740us  3.5740us  3.5740us  cudaSetDevice\n",
      "                    0.00%  3.4250us         1  3.4250us  3.4250us  3.4250us  cuDeviceGetPCIBusId\n",
      "                    0.00%  2.3360us         2  1.1680us     369ns  1.9670us  cuDeviceGet\n",
      "                    0.00%  2.1930us         3     731ns     141ns  1.5330us  cuDeviceGetCount\n",
      "                    0.00%  1.5740us         2     787ns     330ns  1.2440us  cudaConfigureCall\n",
      "                    0.00%  1.1210us         4     280ns     182ns     452ns  cudaSetupArgument\n",
      "                    0.00%  1.0870us         1  1.0870us  1.0870us  1.0870us  cudaGetDeviceCount\n"
     ]
    },
    {
     "data": {
      "text/plain": []
     },
     "execution_count": 30,
     "metadata": {
      "tags": []
     },
     "output_type": "execute_result"
    }
   ],
   "source": [
    "%%shell\n",
    "\n",
    "/usr/local/cuda-10.0/bin/./nvprof ./bin/pi"
   ]
  }
 ],
 "metadata": {
  "accelerator": "GPU",
  "colab": {
   "collapsed_sections": [],
   "name": "Pi",
   "provenance": []
  },
  "kernelspec": {
   "display_name": "Python 3",
   "language": "python",
   "name": "python3"
  },
  "language_info": {
   "codemirror_mode": {
    "name": "ipython",
    "version": 3
   },
   "file_extension": ".py",
   "mimetype": "text/x-python",
   "name": "python",
   "nbconvert_exporter": "python",
   "pygments_lexer": "ipython3",
   "version": "3.8.3"
  }
 },
 "nbformat": 4,
 "nbformat_minor": 1
}
